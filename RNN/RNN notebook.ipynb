{
 "cells": [
  {
   "cell_type": "code",
   "execution_count": 3,
   "metadata": {},
   "outputs": [],
   "source": [
    "import tensorflow as tf\n",
    "import numpy as np\n",
    "from urllib.request import urlopen"
   ]
  },
  {
   "cell_type": "code",
   "execution_count": 4,
   "metadata": {},
   "outputs": [],
   "source": [
    "# loading file\n",
    "filename = \"../sherlock.txt\"\n",
    "raw_text = open(filename).read()"
   ]
  },
  {
   "cell_type": "code",
   "execution_count": 5,
   "metadata": {},
   "outputs": [],
   "source": [
    "# create mapping of unique chars of integers\n",
    "chars = sorted(set(raw_text))\n",
    "char_to_int = dict((c, i) for i, c in enumerate(chars))\n",
    "int_to_char = dict((i, c) for i, c in enumerate(chars))"
   ]
  },
  {
   "cell_type": "code",
   "execution_count": 6,
   "metadata": {},
   "outputs": [
    {
     "name": "stdout",
     "output_type": "stream",
     "text": [
      "Total characters 581862\n",
      "Total vocabulary 88\n"
     ]
    }
   ],
   "source": [
    "# total sizes\n",
    "n_chars = len(raw_text)\n",
    "n_vocab = len(chars)\n",
    "print(\"Total characters\", n_chars)\n",
    "print(\"Total vocabulary\", n_vocab)"
   ]
  },
  {
   "cell_type": "code",
   "execution_count": 7,
   "metadata": {},
   "outputs": [
    {
     "name": "stdout",
     "output_type": "stream",
     "text": [
      "Total patters 581562\n"
     ]
    }
   ],
   "source": [
    "# preparing dataset\n",
    "seq_length = 300\n",
    "dataX = []\n",
    "dataY = []\n",
    "for i in range(0, n_chars - seq_length, 1):\n",
    "    seq_in = raw_text[i : i + seq_length]\n",
    "    seq_out = raw_text[i + seq_length]\n",
    "    dataX.append([char_to_int[char] for char in seq_in])\n",
    "    dataY.append(char_to_int[seq_out])\n",
    "n_patterns = len(dataX)\n",
    "print(\"Total patters\", n_patterns)"
   ]
  },
  {
   "cell_type": "code",
   "execution_count": 8,
   "metadata": {},
   "outputs": [],
   "source": [
    "# reshape X to be [samples, time steps, features]\n",
    "X = tf.reshape(dataX, (n_patterns, seq_length, 1))\n",
    "X = X / n_vocab\n",
    "# one hot encode the output variable\n",
    "y = tf.keras.utils.to_categorical(dataY)\n",
    "y = tf.convert_to_tensor(y, dtype=tf.int32)"
   ]
  },
  {
   "cell_type": "code",
   "execution_count": 37,
   "metadata": {},
   "outputs": [],
   "source": [
    "# parameters\n",
    "dataset = n_chars\n",
    "output_dim = n_vocab\n",
    "EPOCHS = 500\n",
    "BATCH_SIZE = 1000\n",
    "learning_rate = 0.0001\n",
    "patience = 10000"
   ]
  },
  {
   "cell_type": "code",
   "execution_count": null,
   "metadata": {},
   "outputs": [],
   "source": [
    "# creating the variables of the dataset\n",
    "dX = tf.placeholder(dtype=tf.float32, shape=[None, 100, 1])\n",
    "dY = tf.placeholder(dtype=tf.float32, shape=[None, 85])"
   ]
  },
  {
   "cell_type": "code",
   "execution_count": null,
   "metadata": {},
   "outputs": [],
   "source": [
    "# implementing RNN\n",
    "from tensorflow.contrib import rnn\n",
    "def RNN(x, rnn_size=256, dropout=0.2, batch_size=64):\n",
    "    with tf.variable_scope('RNN'):\n",
    "        cell = rnn.BasicRNNCell(rnn_size, activation=tf.nn.relu)\n",
    "        if dropout > 0.0:\n",
    "            cell = rnn.DropoutWrapper(cell, output_keep_prob= 1. - dropout)\n",
    "        initial_rnn_state = cell.zero_state(batch_size, dtype=tf.float32)\n",
    "        outputs, final_rnn_state = tf.nn.dynamic_rnn(cell, x, initial_state=initial_rnn_state, dtype='float32')\n",
    "    outputs = tf.transpose(outputs, [1, 0, 2])\n",
    "    last = outputs[-1]\n",
    "    return last"
   ]
  },
  {
   "cell_type": "code",
   "execution_count": null,
   "metadata": {},
   "outputs": [],
   "source": [
    "# implementing Softmax for Output\n",
    "def softmax(input_, out_dime, scope=None):\n",
    "    with tf.variable_scope(scope or 'softmax'):\n",
    "        W = tf.get_variable('W', [input_.get_shape()[1], out_dim])\n",
    "        b = tf.get_variable('b', [out_dim])\n",
    "    return tf.nn.softmax(tf.matmul(input_, W) + b)"
   ]
  },
  {
   "cell_type": "code",
   "execution_count": null,
   "metadata": {},
   "outputs": [],
   "source": [
    "# creaing model\n",
    "logits = RNN(dX, batch_size=BATCH_SIZE)\n",
    "#result = softmax(logits, output_dim)"
   ]
  },
  {
   "cell_type": "code",
   "execution_count": null,
   "metadata": {},
   "outputs": [],
   "source": []
  }
 ],
 "metadata": {
  "kernelspec": {
   "display_name": "Python 3",
   "language": "python",
   "name": "python3"
  },
  "language_info": {
   "codemirror_mode": {
    "name": "ipython",
    "version": 3
   },
   "file_extension": ".py",
   "mimetype": "text/x-python",
   "name": "python",
   "nbconvert_exporter": "python",
   "pygments_lexer": "ipython3",
   "version": "3.6.2"
  }
 },
 "nbformat": 4,
 "nbformat_minor": 2
}
